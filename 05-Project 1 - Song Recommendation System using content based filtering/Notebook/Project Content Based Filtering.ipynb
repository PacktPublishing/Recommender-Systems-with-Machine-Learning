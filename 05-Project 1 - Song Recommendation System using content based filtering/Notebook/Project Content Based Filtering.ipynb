{
 "cells": [
  {
   "cell_type": "markdown",
   "id": "cc39ddc8",
   "metadata": {},
   "source": [
    "# Spotify Songs Recommender System\n"
   ]
  },
  {
   "cell_type": "code",
   "execution_count": 1,
   "id": "5725d8eb",
   "metadata": {},
   "outputs": [],
   "source": [
    "import pandas as pd\n",
    "import numpy as np\n",
    "import matplotlib.pyplot as plt\n"
   ]
  },
  {
   "cell_type": "code",
   "execution_count": 2,
   "id": "9246e62e",
   "metadata": {},
   "outputs": [],
   "source": [
    "songs=pd.read_csv('music.csv')"
   ]
  },
  {
   "cell_type": "code",
   "execution_count": 3,
   "id": "5215b22a",
   "metadata": {},
   "outputs": [
    {
     "data": {
      "text/html": [
       "<div>\n",
       "<style scoped>\n",
       "    .dataframe tbody tr th:only-of-type {\n",
       "        vertical-align: middle;\n",
       "    }\n",
       "\n",
       "    .dataframe tbody tr th {\n",
       "        vertical-align: top;\n",
       "    }\n",
       "\n",
       "    .dataframe thead th {\n",
       "        text-align: right;\n",
       "    }\n",
       "</style>\n",
       "<table border=\"1\" class=\"dataframe\">\n",
       "  <thead>\n",
       "    <tr style=\"text-align: right;\">\n",
       "      <th></th>\n",
       "      <th>title</th>\n",
       "      <th>genres</th>\n",
       "      <th>year</th>\n",
       "    </tr>\n",
       "  </thead>\n",
       "  <tbody>\n",
       "    <tr>\n",
       "      <th>0</th>\n",
       "      <td>I Didn't Mean To</td>\n",
       "      <td>Jazz</td>\n",
       "      <td>1997</td>\n",
       "    </tr>\n",
       "    <tr>\n",
       "      <th>1</th>\n",
       "      <td>Soul Deep</td>\n",
       "      <td>Jazz|Hate|Rock</td>\n",
       "      <td>1969</td>\n",
       "    </tr>\n",
       "    <tr>\n",
       "      <th>2</th>\n",
       "      <td>Amor De Cabaret</td>\n",
       "      <td>Folk|Romance</td>\n",
       "      <td>1997</td>\n",
       "    </tr>\n",
       "    <tr>\n",
       "      <th>3</th>\n",
       "      <td>Something Girls</td>\n",
       "      <td>Folk|Classic|Romance</td>\n",
       "      <td>1982</td>\n",
       "    </tr>\n",
       "    <tr>\n",
       "      <th>4</th>\n",
       "      <td>Face the Ashes</td>\n",
       "      <td>Folk</td>\n",
       "      <td>2007</td>\n",
       "    </tr>\n",
       "    <tr>\n",
       "      <th>...</th>\n",
       "      <td>...</td>\n",
       "      <td>...</td>\n",
       "      <td>...</td>\n",
       "    </tr>\n",
       "    <tr>\n",
       "      <th>9638</th>\n",
       "      <td>Playing James Mason</td>\n",
       "      <td>Love|Art|Folk|Rock</td>\n",
       "      <td>1997</td>\n",
       "    </tr>\n",
       "    <tr>\n",
       "      <th>9639</th>\n",
       "      <td>Mon dieu</td>\n",
       "      <td>Art|Folk|Rock</td>\n",
       "      <td>1997</td>\n",
       "    </tr>\n",
       "    <tr>\n",
       "      <th>9640</th>\n",
       "      <td>Virtuous Woman</td>\n",
       "      <td>Classic</td>\n",
       "      <td>2002</td>\n",
       "    </tr>\n",
       "    <tr>\n",
       "      <th>9641</th>\n",
       "      <td>Sag es sag es feat  Neo</td>\n",
       "      <td>Love|Art</td>\n",
       "      <td>2006</td>\n",
       "    </tr>\n",
       "    <tr>\n",
       "      <th>9642</th>\n",
       "      <td>Lado A Lado  Bomba Carnaval Mix</td>\n",
       "      <td>Folk</td>\n",
       "      <td>1997</td>\n",
       "    </tr>\n",
       "  </tbody>\n",
       "</table>\n",
       "<p>9643 rows × 3 columns</p>\n",
       "</div>"
      ],
      "text/plain": [
       "                                 title                genres  year\n",
       "0                     I Didn't Mean To                  Jazz  1997\n",
       "1                            Soul Deep        Jazz|Hate|Rock  1969\n",
       "2                      Amor De Cabaret          Folk|Romance  1997\n",
       "3                      Something Girls  Folk|Classic|Romance  1982\n",
       "4                       Face the Ashes                  Folk  2007\n",
       "...                                ...                   ...   ...\n",
       "9638               Playing James Mason    Love|Art|Folk|Rock  1997\n",
       "9639                          Mon dieu         Art|Folk|Rock  1997\n",
       "9640                    Virtuous Woman               Classic  2002\n",
       "9641           Sag es sag es feat  Neo              Love|Art  2006\n",
       "9642  Lado A Lado  Bomba Carnaval Mix                   Folk  1997\n",
       "\n",
       "[9643 rows x 3 columns]"
      ]
     },
     "execution_count": 3,
     "metadata": {},
     "output_type": "execute_result"
    }
   ],
   "source": [
    "songs"
   ]
  },
  {
   "cell_type": "code",
   "execution_count": 4,
   "id": "d9be8b5f",
   "metadata": {},
   "outputs": [
    {
     "data": {
      "text/plain": [
       "(9643, 3)"
      ]
     },
     "execution_count": 4,
     "metadata": {},
     "output_type": "execute_result"
    }
   ],
   "source": [
    "songs.shape"
   ]
  },
  {
   "cell_type": "code",
   "execution_count": 6,
   "id": "14452a6f",
   "metadata": {},
   "outputs": [
    {
     "data": {
      "text/plain": [
       "title     0\n",
       "genres    0\n",
       "year      0\n",
       "dtype: int64"
      ]
     },
     "execution_count": 6,
     "metadata": {},
     "output_type": "execute_result"
    }
   ],
   "source": [
    "songs.isnull().sum()"
   ]
  },
  {
   "cell_type": "code",
   "execution_count": 7,
   "id": "2897378c",
   "metadata": {},
   "outputs": [],
   "source": [
    "def create_missing_df(dataframe):\n",
    "    missing_index=dataframe.columns.tolist()\n",
    "    missing=dataframe.isnull().sum().tolist()\n",
    "    missing_df=pd.DataFrame({'Missing':missing}, index=missing_index)\n",
    "    return missing_df"
   ]
  },
  {
   "cell_type": "code",
   "execution_count": 8,
   "id": "7deffee5",
   "metadata": {},
   "outputs": [
    {
     "data": {
      "text/html": [
       "<div>\n",
       "<style scoped>\n",
       "    .dataframe tbody tr th:only-of-type {\n",
       "        vertical-align: middle;\n",
       "    }\n",
       "\n",
       "    .dataframe tbody tr th {\n",
       "        vertical-align: top;\n",
       "    }\n",
       "\n",
       "    .dataframe thead th {\n",
       "        text-align: right;\n",
       "    }\n",
       "</style>\n",
       "<table border=\"1\" class=\"dataframe\">\n",
       "  <thead>\n",
       "    <tr style=\"text-align: right;\">\n",
       "      <th></th>\n",
       "      <th>Missing</th>\n",
       "    </tr>\n",
       "  </thead>\n",
       "  <tbody>\n",
       "    <tr>\n",
       "      <th>title</th>\n",
       "      <td>0</td>\n",
       "    </tr>\n",
       "    <tr>\n",
       "      <th>genres</th>\n",
       "      <td>0</td>\n",
       "    </tr>\n",
       "    <tr>\n",
       "      <th>year</th>\n",
       "      <td>0</td>\n",
       "    </tr>\n",
       "  </tbody>\n",
       "</table>\n",
       "</div>"
      ],
      "text/plain": [
       "        Missing\n",
       "title         0\n",
       "genres        0\n",
       "year          0"
      ]
     },
     "execution_count": 8,
     "metadata": {},
     "output_type": "execute_result"
    }
   ],
   "source": [
    "create_missing_df(songs)"
   ]
  },
  {
   "cell_type": "code",
   "execution_count": null,
   "id": "6a3ffccb",
   "metadata": {},
   "outputs": [],
   "source": []
  },
  {
   "cell_type": "markdown",
   "id": "7ff68310",
   "metadata": {},
   "source": [
    "# Explore Generers"
   ]
  },
  {
   "cell_type": "code",
   "execution_count": 10,
   "id": "dca4bcf1",
   "metadata": {},
   "outputs": [
    {
     "name": "stdout",
     "output_type": "stream",
     "text": [
      "The number of songs that do not have info about genre: 0\n"
     ]
    }
   ],
   "source": [
    "r,c = songs[songs['genres']=='(no genres listed)'].shape\n",
    "print('The number of songs that do not have info about genre:',r)"
   ]
  },
  {
   "cell_type": "code",
   "execution_count": 11,
   "id": "b095ddd1",
   "metadata": {},
   "outputs": [],
   "source": [
    "songs=songs[~(songs['genres']=='(no genres listed)')].reset_index(drop=True)"
   ]
  },
  {
   "cell_type": "code",
   "execution_count": 12,
   "id": "fa2f27a2",
   "metadata": {},
   "outputs": [
    {
     "data": {
      "text/html": [
       "<div>\n",
       "<style scoped>\n",
       "    .dataframe tbody tr th:only-of-type {\n",
       "        vertical-align: middle;\n",
       "    }\n",
       "\n",
       "    .dataframe tbody tr th {\n",
       "        vertical-align: top;\n",
       "    }\n",
       "\n",
       "    .dataframe thead th {\n",
       "        text-align: right;\n",
       "    }\n",
       "</style>\n",
       "<table border=\"1\" class=\"dataframe\">\n",
       "  <thead>\n",
       "    <tr style=\"text-align: right;\">\n",
       "      <th></th>\n",
       "      <th>title</th>\n",
       "      <th>genres</th>\n",
       "    </tr>\n",
       "  </thead>\n",
       "  <tbody>\n",
       "    <tr>\n",
       "      <th>0</th>\n",
       "      <td>I Didn't Mean To</td>\n",
       "      <td>Jazz</td>\n",
       "    </tr>\n",
       "    <tr>\n",
       "      <th>1</th>\n",
       "      <td>Soul Deep</td>\n",
       "      <td>Jazz|Hate|Rock</td>\n",
       "    </tr>\n",
       "    <tr>\n",
       "      <th>2</th>\n",
       "      <td>Amor De Cabaret</td>\n",
       "      <td>Folk|Romance</td>\n",
       "    </tr>\n",
       "    <tr>\n",
       "      <th>3</th>\n",
       "      <td>Something Girls</td>\n",
       "      <td>Folk|Classic|Romance</td>\n",
       "    </tr>\n",
       "    <tr>\n",
       "      <th>4</th>\n",
       "      <td>Face the Ashes</td>\n",
       "      <td>Folk</td>\n",
       "    </tr>\n",
       "  </tbody>\n",
       "</table>\n",
       "</div>"
      ],
      "text/plain": [
       "              title                genres\n",
       "0  I Didn't Mean To                  Jazz\n",
       "1         Soul Deep        Jazz|Hate|Rock\n",
       "2   Amor De Cabaret          Folk|Romance\n",
       "3   Something Girls  Folk|Classic|Romance\n",
       "4    Face the Ashes                  Folk"
      ]
     },
     "execution_count": 12,
     "metadata": {},
     "output_type": "execute_result"
    }
   ],
   "source": [
    "songs[['title','genres']].head(5)"
   ]
  },
  {
   "cell_type": "code",
   "execution_count": 13,
   "id": "c87c8ee1",
   "metadata": {},
   "outputs": [
    {
     "name": "stderr",
     "output_type": "stream",
     "text": [
      "<ipython-input-13-434744e1d09d>:1: FutureWarning: The default value of regex will change from True to False in a future version. In addition, single character regular expressions will *not* be treated as literal strings when regex=True.\n",
      "  songs['genres']=songs['genres'].str.replace('|', ' ')\n"
     ]
    }
   ],
   "source": [
    "songs['genres']=songs['genres'].str.replace('|', ' ')"
   ]
  },
  {
   "cell_type": "code",
   "execution_count": 15,
   "id": "0b5dbd9b",
   "metadata": {},
   "outputs": [
    {
     "data": {
      "text/html": [
       "<div>\n",
       "<style scoped>\n",
       "    .dataframe tbody tr th:only-of-type {\n",
       "        vertical-align: middle;\n",
       "    }\n",
       "\n",
       "    .dataframe tbody tr th {\n",
       "        vertical-align: top;\n",
       "    }\n",
       "\n",
       "    .dataframe thead th {\n",
       "        text-align: right;\n",
       "    }\n",
       "</style>\n",
       "<table border=\"1\" class=\"dataframe\">\n",
       "  <thead>\n",
       "    <tr style=\"text-align: right;\">\n",
       "      <th></th>\n",
       "      <th>title</th>\n",
       "      <th>genres</th>\n",
       "    </tr>\n",
       "  </thead>\n",
       "  <tbody>\n",
       "    <tr>\n",
       "      <th>0</th>\n",
       "      <td>I Didn't Mean To</td>\n",
       "      <td>Jazz</td>\n",
       "    </tr>\n",
       "    <tr>\n",
       "      <th>1</th>\n",
       "      <td>Soul Deep</td>\n",
       "      <td>Jazz Hate Rock</td>\n",
       "    </tr>\n",
       "    <tr>\n",
       "      <th>2</th>\n",
       "      <td>Amor De Cabaret</td>\n",
       "      <td>Folk Romance</td>\n",
       "    </tr>\n",
       "    <tr>\n",
       "      <th>3</th>\n",
       "      <td>Something Girls</td>\n",
       "      <td>Folk Classic Romance</td>\n",
       "    </tr>\n",
       "    <tr>\n",
       "      <th>4</th>\n",
       "      <td>Face the Ashes</td>\n",
       "      <td>Folk</td>\n",
       "    </tr>\n",
       "  </tbody>\n",
       "</table>\n",
       "</div>"
      ],
      "text/plain": [
       "              title                genres\n",
       "0  I Didn't Mean To                  Jazz\n",
       "1         Soul Deep        Jazz Hate Rock\n",
       "2   Amor De Cabaret          Folk Romance\n",
       "3   Something Girls  Folk Classic Romance\n",
       "4    Face the Ashes                  Folk"
      ]
     },
     "execution_count": 15,
     "metadata": {},
     "output_type": "execute_result"
    }
   ],
   "source": [
    "songs[['title','genres']].head(5)"
   ]
  },
  {
   "cell_type": "code",
   "execution_count": 16,
   "id": "0d5aa42a",
   "metadata": {},
   "outputs": [],
   "source": [
    "counts = dict()\n",
    "for i in songs.index:\n",
    "    for g in songs.loc[i,'genres'].split(' '):\n",
    "        if g not in counts:\n",
    "            counts[g] = 1\n",
    "        else:\n",
    "            counts[g]=counts[g]+1"
   ]
  },
  {
   "cell_type": "code",
   "execution_count": 19,
   "id": "9a72d8ad",
   "metadata": {},
   "outputs": [
    {
     "data": {
      "text/plain": [
       "<Figure size 1800x600 with 0 Axes>"
      ]
     },
     "metadata": {},
     "output_type": "display_data"
    },
    {
     "data": {
      "image/png": "[encoded data removed]",
      "text/plain": [
       "<Figure size 1800x600 with 1 Axes>"
      ]
     },
     "metadata": {},
     "output_type": "display_data"
    },
    {
     "data": {
      "image/png": "[encoded data removed]",
      "text/plain": [
       "<Figure size 1800x600 with 1 Axes>"
      ]
     },
     "metadata": {},
     "output_type": "display_data"
    }
   ],
   "source": [
    "plt.figure(figsize=(18,6))\n",
    "plt.bar(list(counts.keys()),counts.values(),color='g')\n",
    "plt.xticks(rotation=45)\n",
    "plt.xlabel('Genres')\n",
    "plt.ylabel('Counts')\n",
    "plt.show()"
   ]
  },
  {
   "cell_type": "code",
   "execution_count": null,
   "id": "df5e082e",
   "metadata": {},
   "outputs": [],
   "source": []
  },
  {
   "cell_type": "code",
   "execution_count": null,
   "id": "e9103ae8",
   "metadata": {},
   "outputs": [],
   "source": []
  },
  {
   "cell_type": "code",
   "execution_count": null,
   "id": "6751d10b",
   "metadata": {},
   "outputs": [],
   "source": []
  },
  {
   "cell_type": "code",
   "execution_count": null,
   "id": "a5124516",
   "metadata": {},
   "outputs": [],
   "source": []
  },
  {
   "cell_type": "markdown",
   "id": "01be08cf",
   "metadata": {},
   "source": [
    "# Term Frequency and Inverse Document Frequency (tf-idf)"
   ]
  },
  {
   "cell_type": "code",
   "execution_count": 37,
   "id": "54d2ec07",
   "metadata": {},
   "outputs": [],
   "source": [
    "from sklearn.feature_extraction.text import TfidfVectorizer"
   ]
  },
  {
   "cell_type": "code",
   "execution_count": 38,
   "id": "f0e2c48c",
   "metadata": {},
   "outputs": [],
   "source": [
    "songs['genres']=songs['genres'].str.replace('Rap-Comb','Rap')"
   ]
  },
  {
   "cell_type": "code",
   "execution_count": 39,
   "id": "2ea92024",
   "metadata": {},
   "outputs": [],
   "source": [
    "tfidf_vector=TfidfVectorizer(stop_words='english')\n",
    "tfidf_matrix=tfidf_vector.fit_transform(songs['genres'])"
   ]
  },
  {
   "cell_type": "code",
   "execution_count": 40,
   "id": "55ad66a5",
   "metadata": {},
   "outputs": [
    {
     "name": "stdout",
     "output_type": "stream",
     "text": [
      "[(0, 'art'), (1, 'base'), (2, 'bass'), (3, 'classic'), (4, 'documentary'), (5, 'film'), (6, 'folk'), (7, 'genres'), (8, 'hate'), (9, 'heavymetal'), (10, 'imax'), (11, 'jazz'), (12, 'listed'), (13, 'love'), (14, 'musical'), (15, 'rap'), (16, 'rock'), (17, 'romance'), (18, 'solo'), (19, 'war'), (20, 'western')]\n"
     ]
    }
   ],
   "source": [
    "print(list(enumerate(tfidf_vector.get_feature_names())))"
   ]
  },
  {
   "cell_type": "code",
   "execution_count": 41,
   "id": "3ead5a9a",
   "metadata": {},
   "outputs": [
    {
     "name": "stdout",
     "output_type": "stream",
     "text": [
      "  (0, 11)\t1.0\n",
      "  (1, 16)\t0.5940761164298742\n",
      "  (1, 8)\t0.6233790368007639\n",
      "  (1, 11)\t0.5084015581850143\n",
      "  (2, 17)\t0.819170276063785\n",
      "  (2, 6)\t0.5735503977974231\n",
      "  (3, 3)\t0.46583696216345366\n",
      "  (3, 17)\t0.724859668658722\n",
      "  (3, 6)\t0.5075178671084329\n",
      "  (4, 6)\t1.0\n"
     ]
    }
   ],
   "source": [
    "print(tfidf_matrix[:5])"
   ]
  },
  {
   "cell_type": "code",
   "execution_count": 42,
   "id": "f0ba4690",
   "metadata": {},
   "outputs": [
    {
     "data": {
      "text/plain": [
       "(9643, 21)"
      ]
     },
     "execution_count": 42,
     "metadata": {},
     "output_type": "execute_result"
    }
   ],
   "source": [
    "tfidf_matrix.shape"
   ]
  },
  {
   "cell_type": "code",
   "execution_count": 43,
   "id": "78744fca",
   "metadata": {},
   "outputs": [
    {
     "data": {
      "text/plain": [
       "matrix([[0., 0., 0., 0., 0., 0., 0., 0., 0., 0., 0., 1., 0., 0., 0., 0.,\n",
       "         0., 0., 0., 0., 0.]])"
      ]
     },
     "execution_count": 43,
     "metadata": {},
     "output_type": "execute_result"
    }
   ],
   "source": [
    "tfidf_matrix.todense()[0]"
   ]
  },
  {
   "cell_type": "code",
   "execution_count": 44,
   "id": "b44111f8",
   "metadata": {},
   "outputs": [],
   "source": [
    "from sklearn.metrics.pairwise import linear_kernel"
   ]
  },
  {
   "cell_type": "code",
   "execution_count": 45,
   "id": "eb150a7e",
   "metadata": {},
   "outputs": [],
   "source": [
    "sim_matrix=linear_kernel(tfidf_matrix,tfidf_matrix)"
   ]
  },
  {
   "cell_type": "code",
   "execution_count": 46,
   "id": "c3fb1f2e",
   "metadata": {},
   "outputs": [
    {
     "data": {
      "text/plain": [
       "array([[1.        , 0.50840156, 0.        , ..., 0.        , 0.        ,\n",
       "        0.        ],\n",
       "       [0.50840156, 1.        , 0.        , ..., 0.        , 0.        ,\n",
       "        0.        ],\n",
       "       [0.        , 0.        , 1.        , ..., 0.        , 0.        ,\n",
       "        0.5735504 ],\n",
       "       ...,\n",
       "       [0.        , 0.        , 0.        , ..., 1.        , 0.        ,\n",
       "        0.        ],\n",
       "       [0.        , 0.        , 0.        , ..., 0.        , 1.        ,\n",
       "        0.        ],\n",
       "       [0.        , 0.        , 0.5735504 , ..., 0.        , 0.        ,\n",
       "        1.        ]])"
      ]
     },
     "execution_count": 46,
     "metadata": {},
     "output_type": "execute_result"
    }
   ],
   "source": [
    "sim_matrix"
   ]
  },
  {
   "cell_type": "code",
   "execution_count": null,
   "id": "1b7a72a1",
   "metadata": {},
   "outputs": [],
   "source": []
  },
  {
   "cell_type": "markdown",
   "id": "999a68c8",
   "metadata": {},
   "source": [
    "# Make the Recommendation Engine"
   ]
  },
  {
   "cell_type": "code",
   "execution_count": 47,
   "id": "5ac148f2",
   "metadata": {},
   "outputs": [],
   "source": [
    "# the function to convert from index to title_year\n",
    "def get_title_year_from_index(index):\n",
    "    return songs[songs.index == index]['title'].values[0]\n",
    "\n",
    "# the function to convert from title to index\n",
    "def get_index_from_title(title):\n",
    "\n",
    "    return songs[songs.title == title].index.values[0]"
   ]
  },
  {
   "cell_type": "code",
   "execution_count": null,
   "id": "6a08e2f6",
   "metadata": {},
   "outputs": [],
   "source": []
  },
  {
   "cell_type": "markdown",
   "id": "ba5b133c",
   "metadata": {},
   "source": [
    "# Did You Mean"
   ]
  },
  {
   "cell_type": "markdown",
   "id": "4d0a043b",
   "metadata": {},
   "source": []
  },
  {
   "cell_type": "code",
   "execution_count": 48,
   "id": "988b000b",
   "metadata": {},
   "outputs": [],
   "source": [
    "from fuzzywuzzy import fuzz"
   ]
  },
  {
   "cell_type": "code",
   "execution_count": 49,
   "id": "2b3445af",
   "metadata": {},
   "outputs": [],
   "source": [
    "def matching_score(a,b):\n",
    "    return fuzz.ratio(a,b)"
   ]
  },
  {
   "cell_type": "code",
   "execution_count": 50,
   "id": "af620452",
   "metadata": {},
   "outputs": [],
   "source": [
    "# a function to convert index to title\n",
    "def get_title_from_index(index):\n",
    "\n",
    "    return songs[songs.index == index]['title'].values[0]"
   ]
  },
  {
   "cell_type": "code",
   "execution_count": 51,
   "id": "81e10c47",
   "metadata": {},
   "outputs": [],
   "source": [
    "# the function to return the most similar title to the words a user types\n",
    "def find_closest_title(title):\n",
    "    leven_scores = list(enumerate(songs['title'].apply(matching_score, b=title)))\n",
    "    sorted_leven_scores = sorted(leven_scores, key=lambda x: x[1], reverse=True)\n",
    "    closest_title = get_title_from_index(sorted_leven_scores[0][0])\n",
    "    distance_score = sorted_leven_scores[0][1]\n",
    "    return closest_title, distance_score"
   ]
  },
  {
   "cell_type": "code",
   "execution_count": null,
   "id": "f973a74c",
   "metadata": {},
   "outputs": [],
   "source": []
  },
  {
   "cell_type": "markdown",
   "id": "d349118e",
   "metadata": {},
   "source": [
    "# Recommend Songs"
   ]
  },
  {
   "cell_type": "code",
   "execution_count": 52,
   "id": "888b70aa",
   "metadata": {},
   "outputs": [],
   "source": [
    "def contents_based_recommender(songs_likes, how_many):\n",
    "    closest_title, distance_score = find_closest_title(songs_likes)\n",
    "    if distance_score == 100:\n",
    "        songs_index = get_index_from_title(closest_title)\n",
    "        songs_list = list(enumerate(sim_matrix[int(songs_index)]))\n",
    "        similar_songs = list(filter(lambda x:x[0] != int(songs_index), sorted(songs_list,key=lambda x:x[1], reverse=True))) # remove the typed movie itself\n",
    "\n",
    "        print('Here\\'s the list of songs similar to '+'\\033[1m'+str(closest_title)+'\\033[0m'+'.\\n')\n",
    "\n",
    "    for i,s in similar_songs[:how_many]: \n",
    "        print(get_title_year_from_index(i))"
   ]
  },
  {
   "cell_type": "code",
   "execution_count": 53,
   "id": "937c8589",
   "metadata": {},
   "outputs": [
    {
     "name": "stdout",
     "output_type": "stream",
     "text": [
      "Here's the list of songs similar to \u001b[1mSoul\u001b[0m.\n",
      "\n",
      "Crying Time\n",
      "My Life Would Suck Without You\n",
      "Sajana  Ft Faheem Mazhar \n",
      "El Cara Bonita\n",
      "Lunes Por La Madrugada\n",
      "Get Your Hustle On\n",
      "The Loco Motion\n",
      "Viaje Al Averno\n",
      "Dementia\n",
      "Boat Day At the Marina\n",
      "I See War\n",
      "Cry On  Acoustic Demo \n",
      "I've Been Lonely  For So Long \n",
      "Get Together   Album Version\n",
      "Cutting Edge\n",
      "Still\n",
      "Can't Help Falling In Love\n",
      "Livin' Above Your Head\n",
      "Voyagers   Improvisation 12\n",
      "Vine Pa'echar Candela\n"
     ]
    }
   ],
   "source": [
    "contents_based_recommender('Soul',20)"
   ]
  },
  {
   "cell_type": "code",
   "execution_count": null,
   "id": "7f315cfa",
   "metadata": {},
   "outputs": [],
   "source": []
  }
 ],
 "metadata": {
  "kernelspec": {
   "display_name": "Python 3",
   "language": "python",
   "name": "python3"
  },
  "language_info": {
   "codemirror_mode": {
    "name": "ipython",
    "version": 3
   },
   "file_extension": ".py",
   "mimetype": "text/x-python",
   "name": "python",
   "nbconvert_exporter": "python",
   "pygments_lexer": "ipython3",
   "version": "3.8.11"
  }
 },
 "nbformat": 4,
 "nbformat_minor": 5
}
